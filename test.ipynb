{
  "nbformat": 4,
  "nbformat_minor": 0,
  "metadata": {
    "colab": {
      "provenance": [],
      "authorship_tag": "ABX9TyOFMZOt7duvpt4s6vRbV77V",
      "include_colab_link": true
    },
    "kernelspec": {
      "name": "python3",
      "display_name": "Python 3"
    },
    "language_info": {
      "name": "python"
    }
  },
  "cells": [
    {
      "cell_type": "markdown",
      "metadata": {
        "id": "view-in-github",
        "colab_type": "text"
      },
      "source": [
        "<a href=\"https://colab.research.google.com/github/claclaw/tutorial1/blob/main/test.ipynb\" target=\"_parent\"><img src=\"https://colab.research.google.com/assets/colab-badge.svg\" alt=\"Open In Colab\"/></a>"
      ]
    },
    {
      "cell_type": "code",
      "execution_count": null,
      "metadata": {
        "id": "5TDW-0L9XDwN"
      },
      "outputs": [],
      "source": []
    },
    {
      "cell_type": "markdown",
      "source": [
        "[google search](https://www.google.com)"
      ],
      "metadata": {
        "id": "q_fKnEuvXiC0"
      }
    },
    {
      "cell_type": "code",
      "source": [],
      "metadata": {
        "id": "zRg69QozXpYn"
      },
      "execution_count": null,
      "outputs": []
    },
    {
      "cell_type": "markdown",
      "source": [
        "asdSDA\n",
        "dfgsfgs\n",
        "\n",
        "> Indented block\n",
        "\n",
        "1.  sddd\n",
        "2.  sfff\n",
        "\n"
      ],
      "metadata": {
        "id": "ysVtK4DPXzMM"
      }
    },
    {
      "cell_type": "markdown",
      "source": [
        "\n",
        "\n",
        "*   List item\n",
        "*   List item\n",
        "\n"
      ],
      "metadata": {
        "id": "SVqx-sX7YGXT"
      }
    },
    {
      "cell_type": "markdown",
      "source": [
        "\n",
        "eeeee\n",
        "\n",
        "\n",
        "---\n",
        "\n",
        "\\\\\\www.google.com\n",
        "\n"
      ],
      "metadata": {
        "id": "KmdnxeDWYJ-6"
      }
    }
  ]
}